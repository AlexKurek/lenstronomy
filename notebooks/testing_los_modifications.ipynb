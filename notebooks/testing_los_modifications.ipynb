{
 "cells": [
  {
   "cell_type": "code",
   "execution_count": 1,
   "metadata": {},
   "outputs": [],
   "source": [
    "import numpy as np\n",
    "import copy\n",
    "import matplotlib.pyplot as plt\n",
    "%matplotlib inline"
   ]
  },
  {
   "cell_type": "code",
   "execution_count": 2,
   "metadata": {},
   "outputs": [
    {
     "name": "stdout",
     "output_type": "stream",
     "text": [
      "Adding line-of-sight effects to the main lens.\n",
      "x post shear in alpha 1.0\n",
      "y post shear in alpha 0.5\n",
      "shear_os (1.0, 0.5)\n",
      "x post shear in alpha 1.0\n",
      "y post shear in alpha 0.5\n",
      "sheared alpha (0.8993331899774777, 0.5289623054267272)\n",
      "dx from sheared lens eqn 0.10066681002252231\n",
      "dy from sheared lens eqn -0.028962305426727175\n",
      "x post shear in potential 1.0\n",
      "y post shear in potential 0.5\n",
      "x post shear in hessian 1.0\n",
      "y post shear in hessian 0.5\n"
     ]
    }
   ],
   "source": [
    "# import the LensModel class\n",
    "from lenstronomy.LensModel.lens_model import LensModel\n",
    "\n",
    "# specify the choice of lens models\n",
    "lens_model_list = ['EPL']\n",
    "\n",
    "# setup lens model class with the list of lens models\n",
    "# select los_effects = True\n",
    "lensModel = LensModel(lens_model_list=lens_model_list, los_effects = True)\n",
    "\n",
    "# define parameter values of lens models \n",
    "kwargs_spep = {'theta_E': 1.1, 'e1': 0.1, 'e2': 0.1, 'gamma': 2., 'center_x': 0.1, 'center_y': 0}\n",
    "\n",
    "kwargs_lens = [kwargs_spep]\n",
    "\n",
    "# image plane coordinate \n",
    "theta_ra, theta_dec = 1.0, 0.5\n",
    "\n",
    "# source plane coordinate \n",
    "beta_ra, beta_dec = lensModel.ray_shooting(theta_ra, theta_dec, kwargs_lens)\n",
    "\n",
    "# Fermat potential \n",
    "fermat_pot = lensModel.fermat_potential(x_image=theta_ra, y_image=theta_dec, x_source=beta_ra, y_source=beta_dec, kwargs_lens=kwargs_lens)\n",
    "\n",
    "# Magnification \n",
    "mag = lensModel.magnification(theta_ra, theta_dec, kwargs_lens)\n",
    "\n",
    "# print(beta_ra, beta_dec)"
   ]
  },
  {
   "cell_type": "code",
   "execution_count": 3,
   "metadata": {},
   "outputs": [
    {
     "name": "stdout",
     "output_type": "stream",
     "text": [
      "unsheared alpha (array(0.89933319), array(0.52896231))\n",
      "dx from unsheared lens eqn 0.8993331899774777\n",
      "dy from unsheared lens eqn 0.5289623054267272\n"
     ]
    }
   ],
   "source": [
    "# import the LensModel class\n",
    "from lenstronomy.LensModel.lens_model import LensModel\n",
    "\n",
    "# specify the choice of lens models\n",
    "lens_model_list = ['EPL']\n",
    "\n",
    "# setup lens model class with the list of lens models\n",
    "# select los_effects = True\n",
    "lensModel = LensModel(lens_model_list=lens_model_list, los_effects = False)\n",
    "\n",
    "# define parameter values of lens models \n",
    "kwargs_spep = {'theta_E': 1.1, 'e1': 0.1, 'e2': 0.1, 'gamma': 2., 'center_x': 0.1, 'center_y': 0}\n",
    "\n",
    "kwargs_lens = [kwargs_spep]\n",
    "\n",
    "# image plane coordinate \n",
    "theta_ra, theta_dec = 1.0, 0.5\n",
    "\n",
    "# source plane coordinate \n",
    "beta_ra, beta_dec = lensModel.ray_shooting(theta_ra, theta_dec, kwargs_lens)\n",
    "\n",
    "# Fermat potential \n",
    "fermat_pot = lensModel.fermat_potential(x_image=theta_ra, y_image=theta_dec, x_source=beta_ra, y_source=beta_dec, kwargs_lens=kwargs_lens)\n",
    "\n",
    "# Magnification \n",
    "mag = lensModel.magnification(theta_ra, theta_dec, kwargs_lens)\n",
    "\n",
    "# print(beta_ra, beta_dec)"
   ]
  }
 ],
 "metadata": {
  "kernelspec": {
   "display_name": "Python 3",
   "language": "python",
   "name": "python3"
  },
  "language_info": {
   "codemirror_mode": {
    "name": "ipython",
    "version": 3
   },
   "file_extension": ".py",
   "mimetype": "text/x-python",
   "name": "python",
   "nbconvert_exporter": "python",
   "pygments_lexer": "ipython3",
   "version": "3.8.5"
  }
 },
 "nbformat": 4,
 "nbformat_minor": 4
}
